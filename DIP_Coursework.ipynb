{
  "nbformat": 4,
  "nbformat_minor": 0,
  "metadata": {
    "colab": {
      "name": "DIP_Coursework.ipynb",
      "provenance": [],
      "collapsed_sections": [],
      "authorship_tag": "ABX9TyNgMIc93CPwBRz2+f3TKrmG",
      "include_colab_link": true
    },
    "kernelspec": {
      "name": "python3",
      "display_name": "Python 3"
    }
  },
  "cells": [
    {
      "cell_type": "markdown",
      "metadata": {
        "id": "view-in-github",
        "colab_type": "text"
      },
      "source": [
        "<a href=\"https://colab.research.google.com/github/CWanjohi/SimpleImageClassifier/blob/master/DIP_Coursework.ipynb\" target=\"_parent\"><img src=\"https://colab.research.google.com/assets/colab-badge.svg\" alt=\"Open In Colab\"/></a>"
      ]
    },
    {
      "cell_type": "markdown",
      "metadata": {
        "id": "I-f_law1ORyL",
        "colab_type": "text"
      },
      "source": [
        "# Objective\n",
        "Primary Objective: Create CNN model. Use the model to classify handwritten digits.\n",
        "Secondary: CNN to generate artistic work."
      ]
    },
    {
      "cell_type": "markdown",
      "metadata": {
        "id": "t14pPGYbOUvQ",
        "colab_type": "text"
      },
      "source": [
        "# Workflow\n",
        "1. How to load the MNIST dataset and examine structure.\n",
        "  *   Use any library to load the dataset- Tensorflow,PyTorch.\n",
        "  *   Examine shape, size and quantity(Image_processing).\n",
        "  *   View some random sample using OpenCV,matplotlib etc. of the handwritten digits and complexity of the images.\n",
        "\n",
        "2. Use numpy etc. to prepare the dataset for training.\n",
        "  *  Ensure the data format and shape is appropriate for the model's input (one-hot encoding).\n",
        "  *   Ensure data normalization.\n",
        "3. Create a CNN model.\n",
        "  *   Input image-28x28x1 \n",
        "  *   2 convolutional layers (kernel size 3x3). 1st will have 64 filters, 2nd will have 32. Use ReLU (Rectified Linear Unit) as an activation function.\n",
        "  *   Max pooling 2x2\n",
        "  *   Dropout rate-0.25\n",
        "  *   Use dense layer with 128 outputs\n",
        "  *   Add dropout layer using rate setting-0.5\n",
        "  *   Add the final dropout layer that indicates the class probabilities\n",
        "\n",
        "4. Train model using MNIST dataset.\n",
        "  *   train for 10 epochs with batch size- 32\n",
        "\n",
        "5. Plot graphs to show how training and validation loss and accuracy changed with respect to the epochs completed.\n",
        "\n",
        "6. Save the model for future use in the 2nd part.\n",
        "7. Test model using random samples training set.\n",
        "\n",
        "\n",
        "\n",
        "\n",
        "\n",
        "\n",
        "\n",
        "\n",
        "\n",
        "\n",
        "\n",
        "\n"
      ]
    },
    {
      "cell_type": "markdown",
      "metadata": {
        "id": "3QB5j69gPCyE",
        "colab_type": "text"
      },
      "source": [
        "# Deliverable\n",
        "Jupyter notebook to document the workflow. View samples from the dataset, convert to appropriate format for the deep learning library."
      ]
    },
    {
      "cell_type": "markdown",
      "metadata": {
        "id": "CGPXvBBJUw1H",
        "colab_type": "text"
      },
      "source": [
        "# Code\n",
        "\n",
        "\n"
      ]
    },
    {
      "cell_type": "code",
      "metadata": {
        "id": "m1xrckkxVR5Y",
        "colab_type": "code",
        "colab": {}
      },
      "source": [
        "#load dataset\n",
        "from tensorflow.keras.datasets import mnist"
      ],
      "execution_count": 51,
      "outputs": []
    },
    {
      "cell_type": "code",
      "metadata": {
        "id": "vk9rmFgPVhlV",
        "colab_type": "code",
        "colab": {
          "base_uri": "https://localhost:8080/",
          "height": 204
        },
        "outputId": "b9dcea2d-5c02-4375-8ea3-bfe5ac071b91"
      },
      "source": [
        "(x_train,y_train),(x_test,y_test) = mnist.load_data()\n",
        "#display data samples from training and test data.\n",
        "\n",
        "print(\"Initial dimensions and shape of x_train: \",str(x_train.shape))\n",
        "print(\"Total number of samples in training data: \",str(len(x_train)))\n",
        "print(\"Number of labels in training data: \",str(len(y_train)))\n",
        "\n",
        "print(\"Initial dimensions and shape of test data: \",str(x_test.shape),\"\\n\")\n",
        "print(\"Total number of samples in test data: \",str(len(x_test)))\n",
        "print(\"Number of labels in test data: \",str(len(x_test)))\n",
        "\n",
        "print(\"Dimension of training data: \",str(x_train[0].shape))\n",
        "print(\"Labels of training data \",str(y_train.shape))\n",
        "\n",
        "print(\"Dimension of test data: \",str(x_test[0].shape))\n",
        "print(\"labels of test data: \",str(y_test.shape))"
      ],
      "execution_count": 52,
      "outputs": [
        {
          "output_type": "stream",
          "text": [
            "Initial dimensions and shape of x_train:  (60000, 28, 28)\n",
            "Total number of samples in training data:  60000\n",
            "Number of labels in training data:  60000\n",
            "Initial dimensions and shape of test data:  (10000, 28, 28) \n",
            "\n",
            "Total number of samples in test data:  10000\n",
            "Number of labels in test data:  10000\n",
            "Dimension of training data:  (28, 28)\n",
            "Labels of training data  (60000,)\n",
            "Dimension of test data:  (28, 28)\n",
            "labels of test data:  (10000,)\n"
          ],
          "name": "stdout"
        }
      ]
    },
    {
      "cell_type": "code",
      "metadata": {
        "id": "gwDeieiWVLPF",
        "colab_type": "code",
        "colab": {
          "base_uri": "https://localhost:8080/",
          "height": 140
        },
        "outputId": "03716877-b5be-467b-866d-5822e1745479"
      },
      "source": [
        "import matplotlib.pyplot as plt\n",
        "import numpy as np\n",
        "\n",
        "#Objective: View random samples using OpenCV,matplotlib etc. of the handwritten digits and complexity of the images.\n",
        "#plot 6 images using the subplot function.\n",
        "#set the colormap to grey. Since the image dataset is grayscale/black and white.\n",
        "plt.subplot(141)\n",
        "random_number = np.random.randint(0, len(x_train))\n",
        "plt.imshow(x_train[random_number],cmap=plt.get_cmap('gray'))\n",
        "\n",
        "plt.subplot(142)\n",
        "random_number = np.random.randint(0, len(x_train))\n",
        "plt.imshow(x_train[random_number], cmap=plt.get_cmap('gray'))\n",
        "\n",
        "plt.subplot(143)\n",
        "random_number = np.random.randint(0, len(x_train))\n",
        "plt.imshow(x_train[random_number], cmap=plt.get_cmap('gray'))\n",
        "\n",
        "plt.subplot(144)\n",
        "random_number = np.random.randint(0, len(x_train))\n",
        "plt.imshow(x_train[random_number], cmap=plt.get_cmap('gray'))"
      ],
      "execution_count": 55,
      "outputs": [
        {
          "output_type": "execute_result",
          "data": {
            "text/plain": [
              "<matplotlib.image.AxesImage at 0x7fd3df5b0b00>"
            ]
          },
          "metadata": {
            "tags": []
          },
          "execution_count": 55
        },
        {
          "output_type": "display_data",
          "data": {
            "image/png": "[encoded data removed]",
            "text/plain": [
              "<Figure size 432x288 with 4 Axes>"
            ]
          },
          "metadata": {
            "tags": [],
            "needs_background": "light"
          }
        }
      ]
    },
    {
      "cell_type": "markdown",
      "metadata": {
        "id": "_3JX8Vi5YXwg",
        "colab_type": "text"
      },
      "source": [
        "Prepare the dataset using keras\n",
        "Keras requires our data in a 4-D shape (60000,28,28,1). We loaded the data as a 3-D shape (60000,28,28).\n",
        "We need our labels to be one-hot encoded into the data"
      ]
    },
    {
      "cell_type": "code",
      "metadata": {
        "id": "PMf6LLXnYcJF",
        "colab_type": "code",
        "colab": {
          "base_uri": "https://localhost:8080/",
          "height": 68
        },
        "outputId": "bc622453-3ace-4a10-fd80-20f8782a3318"
      },
      "source": [
        "#store the data's rows and columns\n",
        "image_rows = x_train[0].shape[0]\n",
        "image_columns = x_train[0].shape[1]\n",
        "\n",
        "#get the data into the right shape, 4-D tensor.\n",
        "x_train = x_train.reshape(x_train.shape[0],image_rows,image_columns,1)\n",
        "x_test = x_test.reshape(x_test.shape[0],image_rows,image_columns,1)\n",
        "\n",
        "#store the shape of a single image for future use \n",
        "input_shape = (image_rows,image_columns,1)\n",
        "\n",
        "#change image type to float32 from unsignedint\n",
        "x_train = x_train.astype('float32')\n",
        "x_test = x_test.astype('float32')\n",
        "\n",
        "#normalize the data by changing the range from 0-255 to 0-1\n",
        "x_train /= 255.0 \n",
        "x_test /= 255.0\n",
        "\n",
        "print(\"X_train shape: \",x_train.shape)\n",
        "print(x_train.shape[0], \"x_train samples\")\n",
        "print(x_test.shape[0], \"x_test samples\")"
      ],
      "execution_count": 35,
      "outputs": [
        {
          "output_type": "stream",
          "text": [
            "X_train shape:  (60000, 28, 28, 1)\n",
            "60000 x_train samples\n",
            "10000 x_test samples\n"
          ],
          "name": "stdout"
        }
      ]
    },
    {
      "cell_type": "code",
      "metadata": {
        "id": "zCIF9IEZblUj",
        "colab_type": "code",
        "colab": {
          "base_uri": "https://localhost:8080/",
          "height": 34
        },
        "outputId": "550feb20-dbe4-4510-ca80-0a91eb3361f1"
      },
      "source": [
        "#Perform One-Hot Encoding of the data labels\n",
        "from tensorflow.keras.utils import to_categorical\n",
        "\n",
        "#one-hot encode for the outputs\n",
        "y_train = to_categorical(y_train)\n",
        "y_test = to_categorical(y_test)\n",
        "\n",
        "#count the number of columns in the OHE matrix\n",
        "print(\"Number of classes: \" + str(y_test.shape[1]))\n",
        "num_classes = y_test.shape[1] #classed the images as images for 1,2,3,4,...,10"
      ],
      "execution_count": 36,
      "outputs": [
        {
          "output_type": "stream",
          "text": [
            "Number of classes: 10\n"
          ],
          "name": "stdout"
        }
      ]
    },
    {
      "cell_type": "markdown",
      "metadata": {
        "id": "RPd8mx47cwxa",
        "colab_type": "text"
      },
      "source": [
        "Creating the CNN model"
      ]
    },
    {
      "cell_type": "code",
      "metadata": {
        "id": "DjVrfx0Ycy0M",
        "colab_type": "code",
        "colab": {
          "base_uri": "https://localhost:8080/",
          "height": 408
        },
        "outputId": "512ec007-044a-4963-f7ee-da0e4857ff4a"
      },
      "source": [
        "#input is an image 28x28 as grayscale\n",
        "\n",
        "from tensorflow.keras.models import Sequential\n",
        "from tensorflow.keras.layers import Dense, Dropout, Flatten\n",
        "from tensorflow.keras.layers import Conv2D, MaxPooling2D\n",
        "from tensorflow.keras.backend import backend as K\n",
        "from tensorflow.keras.optimizers import SGD\n",
        "\n",
        "#What's the criteria used in determining number of filters in the convolutional layers?\n",
        "#-> https://www.quora.com/What-is-a-filter-in-the-context-of-Convolutional-Neural-Networks\n",
        "\n",
        "model = Sequential()\n",
        "\n",
        "#the first layer-filter size=32 which reduces our layer size to 26*26*32\n",
        "# use ReLU as activation function. Input shape is 28x28x1\n",
        "\n",
        "model.add(Conv2D(32, kernel_size=(3,3), activation='relu', input_shape=input_shape))\n",
        "\n",
        "#second layer. Filter size=64. Reduces the layer size to 24*24*64\n",
        "model.add(Conv2D(64, kernel_size=(3,3),activation ='relu'))\n",
        "\n",
        "#specify a max_pool with a size of 2*2. Reduces the layer size to 12*12*64\n",
        "model.add(MaxPooling2D(pool_size=(2,2)))\n",
        "\n",
        "#dropout to reduce Overfitting\n",
        "model.add(Dropout(0.25))\n",
        "\n",
        "#flatten the tensor before being passed to the output layer\n",
        "#Flattening a tensor reshapes the tensor to have the shape that is equal to the number of elements contained in the tensor.\n",
        "#It goes from 12*12*64 to 9612*1\n",
        "\n",
        "model.add(Flatten())\n",
        "\n",
        "#use another dropout layer\n",
        "model.add(Dropout(0.5))\n",
        "\n",
        "#create a fully-connected/Dense layer\n",
        "model.add(Dense(num_classes, activation='softmax'))\n",
        "\n",
        "#compile the model which create an object that store the model.\n",
        "#set the optimizer to use stochastic gradient descent; learning rate=0.01\n",
        "#set the loss function to be categorical_crossentropy as it's suitable for multiclass problems.\n",
        "#Finally, the metrics(to judge the model's performance) we use accuracy.\n",
        "model.compile(loss='categorical_crossentropy',optimizer=SGD(0.01),metrics=['accuracy'])\n",
        "\n",
        "#the summary function can be used to show the models layers and parameters\n",
        "print(model.summary())"
      ],
      "execution_count": 37,
      "outputs": [
        {
          "output_type": "stream",
          "text": [
            "Model: \"sequential_2\"\n",
            "_________________________________________________________________\n",
            "Layer (type)                 Output Shape              Param #   \n",
            "=================================================================\n",
            "conv2d_4 (Conv2D)            (None, 26, 26, 32)        320       \n",
            "_________________________________________________________________\n",
            "conv2d_5 (Conv2D)            (None, 24, 24, 64)        18496     \n",
            "_________________________________________________________________\n",
            "max_pooling2d_2 (MaxPooling2 (None, 12, 12, 64)        0         \n",
            "_________________________________________________________________\n",
            "dropout_3 (Dropout)          (None, 12, 12, 64)        0         \n",
            "_________________________________________________________________\n",
            "flatten_1 (Flatten)          (None, 9216)              0         \n",
            "_________________________________________________________________\n",
            "dropout_4 (Dropout)          (None, 9216)              0         \n",
            "_________________________________________________________________\n",
            "dense_1 (Dense)              (None, 10)                92170     \n",
            "=================================================================\n",
            "Total params: 110,986\n",
            "Trainable params: 110,986\n",
            "Non-trainable params: 0\n",
            "_________________________________________________________________\n",
            "None\n"
          ],
          "name": "stdout"
        }
      ]
    },
    {
      "cell_type": "markdown",
      "metadata": {
        "id": "6a-wTI57jWUl",
        "colab_type": "text"
      },
      "source": [
        "Model training"
      ]
    },
    {
      "cell_type": "code",
      "metadata": {
        "id": "i9nt7AUGjXtP",
        "colab_type": "code",
        "colab": {
          "base_uri": "https://localhost:8080/",
          "height": 391
        },
        "outputId": "03de20d0-355a-4557-dbec-a0ea02199ceb"
      },
      "source": [
        "batch_size = 32\n",
        "epochs = 10\n",
        "\n",
        "#store the results for plotting later on.\n",
        "#in the fit function, we specify the dataset as x_train and y_train.\n",
        "#batch size can be from 16-128(RAM intensive)\n",
        "#the number of epochs(learning iterations) is usually 10-100\n",
        "#the validation dataset is (x_test,y_test)\n",
        "# verbose=1 to set the training to outputperformance metrics every epoch.\n",
        "\n",
        "history = model.fit(x_train,y_train, batch_size = batch_size, epochs = epochs,\n",
        "                    verbose=1, validation_data=(x_test,y_test))\n",
        "\n",
        "#obtain the acurraacy using the evaluative function\n",
        "score = model.evaluate(x_test,y_test,verbose=0)\n",
        "print(\"Test loss: \",score[0])\n",
        "print(\"Test accuracy: \",score[1])"
      ],
      "execution_count": 38,
      "outputs": [
        {
          "output_type": "stream",
          "text": [
            "Epoch 1/10\n",
            "1875/1875 [==============================] - 152s 81ms/step - loss: 0.5654 - accuracy: 0.8266 - val_loss: 0.2621 - val_accuracy: 0.9276\n",
            "Epoch 2/10\n",
            "1875/1875 [==============================] - 148s 79ms/step - loss: 0.2473 - accuracy: 0.9268 - val_loss: 0.1365 - val_accuracy: 0.9625\n",
            "Epoch 3/10\n",
            "1875/1875 [==============================] - 150s 80ms/step - loss: 0.1573 - accuracy: 0.9532 - val_loss: 0.0942 - val_accuracy: 0.9728\n",
            "Epoch 4/10\n",
            "1875/1875 [==============================] - 149s 79ms/step - loss: 0.1242 - accuracy: 0.9634 - val_loss: 0.0760 - val_accuracy: 0.9775\n",
            "Epoch 5/10\n",
            "1875/1875 [==============================] - 153s 81ms/step - loss: 0.1085 - accuracy: 0.9674 - val_loss: 0.0697 - val_accuracy: 0.9795\n",
            "Epoch 6/10\n",
            "1875/1875 [==============================] - 147s 79ms/step - loss: 0.0978 - accuracy: 0.9706 - val_loss: 0.0599 - val_accuracy: 0.9818\n",
            "Epoch 7/10\n",
            "1875/1875 [==============================] - 147s 78ms/step - loss: 0.0880 - accuracy: 0.9734 - val_loss: 0.0556 - val_accuracy: 0.9833\n",
            "Epoch 8/10\n",
            "1875/1875 [==============================] - 147s 78ms/step - loss: 0.0829 - accuracy: 0.9747 - val_loss: 0.0529 - val_accuracy: 0.9829\n",
            "Epoch 9/10\n",
            "1875/1875 [==============================] - 151s 81ms/step - loss: 0.0772 - accuracy: 0.9760 - val_loss: 0.0501 - val_accuracy: 0.9842\n",
            "Epoch 10/10\n",
            "1875/1875 [==============================] - 146s 78ms/step - loss: 0.0726 - accuracy: 0.9780 - val_loss: 0.0468 - val_accuracy: 0.9847\n",
            "Test loss:  0.04681846499443054\n",
            "Test accuracy:  0.9847000241279602\n"
          ],
          "name": "stdout"
        }
      ]
    },
    {
      "cell_type": "markdown",
      "metadata": {
        "id": "nIR2GBxrrIqd",
        "colab_type": "text"
      },
      "source": [
        "Plot the training progress"
      ]
    },
    {
      "cell_type": "code",
      "metadata": {
        "id": "VE8JvBxbrLH4",
        "colab_type": "code",
        "colab": {
          "base_uri": "https://localhost:8080/",
          "height": 279
        },
        "outputId": "1ffd5dd4-38de-4119-db3d-cebad6b1182b"
      },
      "source": [
        "#plot the loss chart.\n",
        "#Use history object to get our saved performance. create a history dict that will contain history.history.\n",
        "history_dict = history.history\n",
        "#Extract the loss and validation.\n",
        "loss_values = history_dict['loss']\n",
        "validation_loss_values = history_dict['val_loss']\n",
        "\n",
        "#get number of epochs and create an array using range() function\n",
        "epoch = range(1,len(loss_values)+1)\n",
        "\n",
        "#plot line charts for both validation\n",
        "line1 = plt.plot(epoch,validation_loss_values, label=\"Validation Test Loss\")\n",
        "line2 = plt.plot(epoch, loss_values, label = \"Training Loss\")\n",
        "\n",
        "plt.setp(line1,linewidth=2.0,marker = '+', markersize= 10.0)\n",
        "plt.setp(line2,linewidth=2.0,marker = '4', markersize= 10.0)\n",
        "plt.xlabel(\"Epochs\")\n",
        "plt.ylabel(\"Loss\")\n",
        "plt.grid(True)\n",
        "plt.legend()\n",
        "plt.show()"
      ],
      "execution_count": 40,
      "outputs": [
        {
          "output_type": "display_data",
          "data": {
            "image/png": "[encoded data removed]",
            "text/plain": [
              "<Figure size 432x288 with 1 Axes>"
            ]
          },
          "metadata": {
            "tags": [],
            "needs_background": "light"
          }
        }
      ]
    },
    {
      "cell_type": "code",
      "metadata": {
        "id": "9KIhkjx41iop",
        "colab_type": "code",
        "colab": {
          "base_uri": "https://localhost:8080/",
          "height": 279
        },
        "outputId": "e58897d3-df13-451f-81e0-6c4ce8afcd6c"
      },
      "source": [
        "#plot accuracy curve\n",
        "\n",
        "accuracy_values = history_dict['accuracy']\n",
        "accuracy_loss_values = history_dict['val_accuracy']\n",
        "\n",
        "\n",
        "#get number of epochs and create an array using range() function\n",
        "epoch = range(1,len(accuracy_values)+1)\n",
        "\n",
        "line1 = plt.plot(epoch, accuracy_values, label = \"Test Accuracy\")\n",
        "line2 = plt.plot(epoch, loss_values, label = \"Training Accuracy\")\n",
        "\n",
        "plt.setp(line1,linewidth=2.0,marker = '+', markersize= 10.0)\n",
        "plt.setp(line2,linewidth=2.0,marker = '4', markersize= 10.0)\n",
        "plt.xlabel(\"Epochs\")\n",
        "plt.ylabel(\"Loss\")\n",
        "plt.grid(True)\n",
        "plt.legend()\n",
        "plt.show()"
      ],
      "execution_count": 42,
      "outputs": [
        {
          "output_type": "display_data",
          "data": {
            "image/png": "[encoded data removed]",
            "text/plain": [
              "<Figure size 432x288 with 1 Axes>"
            ]
          },
          "metadata": {
            "tags": [],
            "needs_background": "light"
          }
        }
      ]
    },
    {
      "cell_type": "code",
      "metadata": {
        "id": "SgHyG0-N2oIc",
        "colab_type": "code",
        "colab": {}
      },
      "source": [
        "#save the model\n",
        "model.save('MNIST_Simple_CNN_10-Epoch.h5')"
      ],
      "execution_count": 43,
      "outputs": []
    },
    {
      "cell_type": "code",
      "metadata": {
        "id": "R9W1IpHg224K",
        "colab_type": "code",
        "colab": {
          "base_uri": "https://localhost:8080/",
          "height": 240
        },
        "outputId": "dbaa431e-ab47-4e9e-fbc8-ed361aab7137"
      },
      "source": [
        "#test using random data\n",
        "from tensorflow.keras.models import load_model\n",
        "classifier = load_model('MNIST_Simple_CNN_10-Epoch.h5')\n",
        "\n",
        "figure = plt.figure(figsize=(20,20))\n",
        "for i in range(5):\n",
        "  figure.add_subplot(1,5,i+1)\n",
        "  random_index = np.random.randint(0, len(x_test))\n",
        "  plt.imshow(x_test[random_index,:,:,0],cmap='gray')\n",
        "  plt.axis('off')\n",
        "  print(np.squeeze(np.argmax(model.predict(x_test[random_index].reshape(1,28,28,1)),axis=1),axis=0),end = '\\t')"
      ],
      "execution_count": 49,
      "outputs": [
        {
          "output_type": "stream",
          "text": [
            "0\t0\t6\t6\t9\t"
          ],
          "name": "stdout"
        },
        {
          "output_type": "display_data",
          "data": {
            "image/png": "[encoded data removed]",
            "text/plain": [
              "<Figure size 1440x1440 with 5 Axes>"
            ]
          },
          "metadata": {
            "tags": [],
            "needs_background": "light"
          }
        }
      ]
    },
    {
      "cell_type": "markdown",
      "metadata": {
        "id": "zgX2A7vm4o-H",
        "colab_type": "text"
      },
      "source": [
        "Visualization of the CNN "
      ]
    }
  ]
}