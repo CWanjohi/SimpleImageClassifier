{
  "nbformat": 4,
  "nbformat_minor": 0,
  "metadata": {
    "colab": {
      "name": "DIP_Coursework.ipynb",
      "provenance": [],
      "collapsed_sections": [],
      "toc_visible": true,
      "authorship_tag": "ABX9TyPe5RmZXDeRfM1Uy+l3KR8r",
      "include_colab_link": true
    },
    "kernelspec": {
      "name": "python3",
      "display_name": "Python 3"
    }
  },
  "cells": [
    {
      "cell_type": "markdown",
      "metadata": {
        "id": "view-in-github",
        "colab_type": "text"
      },
      "source": [
        "<a href=\"https://colab.research.google.com/github/CWanjohi/SimpleImageClassifier/blob/master/DIP_Coursework.ipynb\" target=\"_parent\"><img src=\"https://colab.research.google.com/assets/colab-badge.svg\" alt=\"Open In Colab\"/></a>"
      ]
    },
    {
      "cell_type": "markdown",
      "metadata": {
        "id": "I-f_law1ORyL",
        "colab_type": "text"
      },
      "source": [
        "# Objective\n",
        "Primary Objective: Create CNN model. Use the model to classify handwritten digits.\n",
        "Secondary: CNN to generate artistic work."
      ]
    },
    {
      "cell_type": "markdown",
      "metadata": {
        "id": "t14pPGYbOUvQ",
        "colab_type": "text"
      },
      "source": [
        "# Workflow\n",
        "1. How to load the MNIST dataset and examine structure.\n",
        "  *   Use any library to load the dataset- Tensorflow,PyTorch.\n",
        "  *   Examine shape, size and quantity(Image_processing).\n",
        "  *   View some random sample using OpenCV,matplotlib etc. of the handwritten digits and complexity of the images.\n",
        "\n",
        "2. Use numpy etc. to prepare the dataset for training.\n",
        "  *  Ensure the data format and shape is appropriate for the model's input (one-hot encoding).\n",
        "  *   Ensure data normalization.\n",
        "3. Create a CNN model.\n",
        "  *   Input image-28x28x1 \n",
        "  *   2 convolutional layers (kernel size 3x3). 1st will have 64 filters, 2nd will have 32. Use ReLU (Rectified Linear Unit) as an activation function.\n",
        "  *   Max pooling 2x2\n",
        "  *   Dropout rate-0.25\n",
        "  *   Use dense layer with 128 outputs\n",
        "  *   Add dropout layer using rate setting-0.5\n",
        "  *   Add the final dropout layer that indicates the class probabilities\n",
        "\n",
        "4. Train model using MNIST dataset.\n",
        "  *   train for 10 epochs with batch size- 32\n",
        "\n",
        "5. Plot graphs to show how training and validation loss and accuracy changed with respect to the epochs completed.\n",
        "\n",
        "6. Save the model for future use in the 2nd part.\n",
        "7. Test model using random samples training set.\n",
        "\n",
        "\n",
        "\n",
        "\n",
        "\n",
        "\n",
        "\n",
        "\n",
        "\n",
        "\n",
        "\n",
        "\n"
      ]
    },
    {
      "cell_type": "markdown",
      "metadata": {
        "id": "3QB5j69gPCyE",
        "colab_type": "text"
      },
      "source": [
        "# Deliverable\n",
        "Jupyter notebook to document the workflow. View samples from the dataset, convert to appropriate format for the deep learning library."
      ]
    },
    {
      "cell_type": "markdown",
      "metadata": {
        "id": "CGPXvBBJUw1H",
        "colab_type": "text"
      },
      "source": [
        "# Code\n",
        "\n",
        "\n"
      ]
    },
    {
      "cell_type": "code",
      "metadata": {
        "id": "m1xrckkxVR5Y",
        "colab_type": "code",
        "colab": {}
      },
      "source": [
        "#load dataset\n",
        "from tensorflow.keras.datasets import mnist"
      ],
      "execution_count": 1,
      "outputs": []
    },
    {
      "cell_type": "code",
      "metadata": {
        "id": "vk9rmFgPVhlV",
        "colab_type": "code",
        "colab": {
          "base_uri": "https://localhost:8080/",
          "height": 238
        },
        "outputId": "5e93c78e-6c82-42c0-f08d-162bb86b958e"
      },
      "source": [
        "(x_train,y_train),(x_test,y_test) = mnist.load_data()\n",
        "#display data samples from training and test data.\n",
        "\n",
        "print(\"Initial dimensions and shape of x_train: \",str(x_train.shape))\n",
        "print(\"Total number of samples in training data: \",str(len(x_train)))\n",
        "print(\"Number of labels in training data: \",str(len(y_train)))\n",
        "\n",
        "print(\"Initial dimensions and shape of test data: \",str(x_test.shape),\"\\n\")\n",
        "print(\"Total number of samples in test data: \",str(len(x_test)))\n",
        "print(\"Number of labels in test data: \",str(len(x_test)))\n",
        "\n",
        "print(\"Dimension of training data: \",str(x_train[0].shape))\n",
        "print(\"Labels of training data \",str(y_train.shape))\n",
        "\n",
        "print(\"Dimension of test data: \",str(x_test[0].shape))\n",
        "print(\"labels of test data: \",str(y_test.shape))"
      ],
      "execution_count": 2,
      "outputs": [
        {
          "output_type": "stream",
          "text": [
            "Downloading data from https://storage.googleapis.com/tensorflow/tf-keras-datasets/mnist.npz\n",
            "11493376/11490434 [==============================] - 0s 0us/step\n",
            "Initial dimensions and shape of x_train:  (60000, 28, 28)\n",
            "Total number of samples in training data:  60000\n",
            "Number of labels in training data:  60000\n",
            "Initial dimensions and shape of test data:  (10000, 28, 28) \n",
            "\n",
            "Total number of samples in test data:  10000\n",
            "Number of labels in test data:  10000\n",
            "Dimension of training data:  (28, 28)\n",
            "Labels of training data  (60000,)\n",
            "Dimension of test data:  (28, 28)\n",
            "labels of test data:  (10000,)\n"
          ],
          "name": "stdout"
        }
      ]
    },
    {
      "cell_type": "code",
      "metadata": {
        "id": "gwDeieiWVLPF",
        "colab_type": "code",
        "colab": {
          "base_uri": "https://localhost:8080/",
          "height": 140
        },
        "outputId": "a22fb322-0da6-43e8-d5a0-27dd9e430386"
      },
      "source": [
        "import matplotlib.pyplot as plt\n",
        "import numpy as np\n",
        "\n",
        "#Objective: View random samples using OpenCV,matplotlib etc. of the handwritten digits and complexity of the images.\n",
        "#plot 6 images using the subplot function.\n",
        "#set the colormap to grey. Since the image dataset is grayscale/black and white.\n",
        "plt.subplot(141)\n",
        "random_number = np.random.randint(0, len(x_train))\n",
        "plt.imshow(x_train[random_number],cmap=plt.get_cmap('gray'))\n",
        "\n",
        "plt.subplot(142)\n",
        "random_number = np.random.randint(0, len(x_train))\n",
        "plt.imshow(x_train[random_number], cmap=plt.get_cmap('gray'))\n",
        "\n",
        "plt.subplot(143)\n",
        "random_number = np.random.randint(0, len(x_train))\n",
        "plt.imshow(x_train[random_number], cmap=plt.get_cmap('gray'))\n",
        "\n",
        "plt.subplot(144)\n",
        "random_number = np.random.randint(0, len(x_train))\n",
        "plt.imshow(x_train[random_number], cmap=plt.get_cmap('gray'))"
      ],
      "execution_count": 3,
      "outputs": [
        {
          "output_type": "execute_result",
          "data": {
            "text/plain": [
              "<matplotlib.image.AxesImage at 0x7f91f5d2ae80>"
            ]
          },
          "metadata": {
            "tags": []
          },
          "execution_count": 3
        },
        {
          "output_type": "display_data",
          "data": {
            "image/png": "[encoded data removed]",
            "text/plain": [
              "<Figure size 432x288 with 4 Axes>"
            ]
          },
          "metadata": {
            "tags": [],
            "needs_background": "light"
          }
        }
      ]
    },
    {
      "cell_type": "markdown",
      "metadata": {
        "id": "_3JX8Vi5YXwg",
        "colab_type": "text"
      },
      "source": [
        "Prepare the dataset using keras\n",
        "Keras requires our data in a 4-D shape (60000,28,28,1). We loaded the data as a 3-D shape (60000,28,28).\n",
        "We need our labels to be one-hot encoded into the data"
      ]
    },
    {
      "cell_type": "code",
      "metadata": {
        "id": "PMf6LLXnYcJF",
        "colab_type": "code",
        "colab": {
          "base_uri": "https://localhost:8080/",
          "height": 68
        },
        "outputId": "c8484ed5-8e22-437f-fb78-a8d34a812e94"
      },
      "source": [
        "#store the data's rows and columns\n",
        "image_rows = x_train[0].shape[0]\n",
        "image_columns = x_train[0].shape[1]\n",
        "\n",
        "#get the data into the right shape, 4-D tensor.\n",
        "x_train = x_train.reshape(x_train.shape[0],image_rows,image_columns,1)\n",
        "x_test = x_test.reshape(x_test.shape[0],image_rows,image_columns,1)\n",
        "\n",
        "#store the shape of a single image for future use \n",
        "input_shape = (image_rows,image_columns,1)\n",
        "\n",
        "#change image type to float32 from unsignedint\n",
        "x_train = x_train.astype('float32')\n",
        "x_test = x_test.astype('float32')\n",
        "\n",
        "#normalize the data by changing the range from 0-255 to 0-1\n",
        "x_train /= 255.0 \n",
        "x_test /= 255.0\n",
        "\n",
        "print(\"X_train shape: \",x_train.shape)\n",
        "print(x_train.shape[0], \"x_train samples\")\n",
        "print(x_test.shape[0], \"x_test samples\")"
      ],
      "execution_count": 4,
      "outputs": [
        {
          "output_type": "stream",
          "text": [
            "X_train shape:  (60000, 28, 28, 1)\n",
            "60000 x_train samples\n",
            "10000 x_test samples\n"
          ],
          "name": "stdout"
        }
      ]
    },
    {
      "cell_type": "code",
      "metadata": {
        "id": "zCIF9IEZblUj",
        "colab_type": "code",
        "colab": {
          "base_uri": "https://localhost:8080/",
          "height": 34
        },
        "outputId": "9d64ca42-2933-495d-ef0b-b9b0eb7fb319"
      },
      "source": [
        "#Perform One-Hot Encoding of the data labels\n",
        "from tensorflow.keras.utils import to_categorical\n",
        "\n",
        "#one-hot encode for the outputs\n",
        "y_train = to_categorical(y_train)\n",
        "y_test = to_categorical(y_test)\n",
        "\n",
        "#count the number of columns in the OHE matrix\n",
        "print(\"Number of classes: \" + str(y_test.shape[1]))\n",
        "num_classes = y_test.shape[1] #classed the images as images for 1,2,3,4,...,10"
      ],
      "execution_count": 5,
      "outputs": [
        {
          "output_type": "stream",
          "text": [
            "Number of classes: 10\n"
          ],
          "name": "stdout"
        }
      ]
    },
    {
      "cell_type": "markdown",
      "metadata": {
        "id": "RPd8mx47cwxa",
        "colab_type": "text"
      },
      "source": [
        "Creating the CNN model"
      ]
    },
    {
      "cell_type": "code",
      "metadata": {
        "id": "DjVrfx0Ycy0M",
        "colab_type": "code",
        "colab": {
          "base_uri": "https://localhost:8080/",
          "height": 408
        },
        "outputId": "cb82a901-3b3d-4a90-85e6-34a461071653"
      },
      "source": [
        "#input is an image 28x28 as grayscale\n",
        "\n",
        "from tensorflow.keras.models import Sequential\n",
        "from tensorflow.keras.layers import Dense, Dropout, Flatten\n",
        "from tensorflow.keras.layers import Conv2D, MaxPooling2D\n",
        "from tensorflow.keras.backend import backend as K\n",
        "from tensorflow.keras.optimizers import SGD\n",
        "\n",
        "#What's the criteria used in determining number of filters in the convolutional layers?\n",
        "#-> https://www.quora.com/What-is-a-filter-in-the-context-of-Convolutional-Neural-Networks\n",
        "\n",
        "model = Sequential()\n",
        "\n",
        "#the first layer-filter size=32 which reduces our layer size to 26*26*32\n",
        "# use ReLU as activation function. Input shape is 28x28x1\n",
        "\n",
        "model.add(Conv2D(32, kernel_size=(3,3), activation='relu', input_shape=input_shape))\n",
        "\n",
        "#second layer. Filter size=64. Reduces the layer size to 24*24*64\n",
        "model.add(Conv2D(64, kernel_size=(3,3),activation ='relu'))\n",
        "\n",
        "#specify a max_pool with a size of 2*2. Reduces the layer size to 12*12*64\n",
        "model.add(MaxPooling2D(pool_size=(2,2)))\n",
        "\n",
        "#dropout to reduce Overfitting\n",
        "model.add(Dropout(0.25))\n",
        "\n",
        "#flatten the tensor before being passed to the output layer\n",
        "#Flattening a tensor reshapes the tensor to have the shape that is equal to the number of elements contained in the tensor.\n",
        "#It goes from 12*12*64 to 9612*1\n",
        "\n",
        "model.add(Flatten())\n",
        "\n",
        "#use another dropout layer\n",
        "model.add(Dropout(0.5))\n",
        "\n",
        "#create a fully-connected/Dense layer\n",
        "model.add(Dense(num_classes, activation='softmax'))\n",
        "\n",
        "#compile the model which create an object that store the model.\n",
        "#set the optimizer to use stochastic gradient descent; learning rate=0.01\n",
        "#set the loss function to be categorical_crossentropy as it's suitable for multiclass problems.\n",
        "#Finally, the metrics(to judge the model's performance) we use accuracy.\n",
        "model.compile(loss='categorical_crossentropy',optimizer=SGD(0.01),metrics=['accuracy'])\n",
        "\n",
        "#the summary function can be used to show the models layers and parameters\n",
        "print(model.summary())"
      ],
      "execution_count": 6,
      "outputs": [
        {
          "output_type": "stream",
          "text": [
            "Model: \"sequential\"\n",
            "_________________________________________________________________\n",
            "Layer (type)                 Output Shape              Param #   \n",
            "=================================================================\n",
            "conv2d (Conv2D)              (None, 26, 26, 32)        320       \n",
            "_________________________________________________________________\n",
            "conv2d_1 (Conv2D)            (None, 24, 24, 64)        18496     \n",
            "_________________________________________________________________\n",
            "max_pooling2d (MaxPooling2D) (None, 12, 12, 64)        0         \n",
            "_________________________________________________________________\n",
            "dropout (Dropout)            (None, 12, 12, 64)        0         \n",
            "_________________________________________________________________\n",
            "flatten (Flatten)            (None, 9216)              0         \n",
            "_________________________________________________________________\n",
            "dropout_1 (Dropout)          (None, 9216)              0         \n",
            "_________________________________________________________________\n",
            "dense (Dense)                (None, 10)                92170     \n",
            "=================================================================\n",
            "Total params: 110,986\n",
            "Trainable params: 110,986\n",
            "Non-trainable params: 0\n",
            "_________________________________________________________________\n",
            "None\n"
          ],
          "name": "stdout"
        }
      ]
    },
    {
      "cell_type": "markdown",
      "metadata": {
        "id": "6a-wTI57jWUl",
        "colab_type": "text"
      },
      "source": [
        "Model training"
      ]
    },
    {
      "cell_type": "code",
      "metadata": {
        "id": "i9nt7AUGjXtP",
        "colab_type": "code",
        "colab": {
          "base_uri": "https://localhost:8080/",
          "height": 391
        },
        "outputId": "a4c19f44-b308-458a-8b37-00195e2e176f"
      },
      "source": [
        "batch_size = 32\n",
        "epochs = 10\n",
        "\n",
        "#store the results for plotting later on.\n",
        "#in the fit function, we specify the dataset as x_train and y_train.\n",
        "#batch size can be from 16-128(RAM intensive)\n",
        "#the number of epochs(learning iterations) is usually 10-100\n",
        "#the validation dataset is (x_test,y_test)\n",
        "# verbose=1 to set the training to outputperformance metrics every epoch.\n",
        "\n",
        "history = model.fit(x_train,y_train, batch_size = batch_size, epochs = epochs,\n",
        "                    verbose=1, validation_data=(x_test,y_test))\n",
        "\n",
        "#obtain the acurraacy using the evaluative function\n",
        "score = model.evaluate(x_test,y_test,verbose=0)\n",
        "print(\"Test loss: \",score[0])\n",
        "print(\"Test accuracy: \",score[1])"
      ],
      "execution_count": 7,
      "outputs": [
        {
          "output_type": "stream",
          "text": [
            "Epoch 1/10\n",
            "1875/1875 [==============================] - 151s 80ms/step - loss: 0.5521 - accuracy: 0.8308 - val_loss: 0.2667 - val_accuracy: 0.9247\n",
            "Epoch 2/10\n",
            "1875/1875 [==============================] - 150s 80ms/step - loss: 0.2529 - accuracy: 0.9261 - val_loss: 0.1406 - val_accuracy: 0.9596\n",
            "Epoch 3/10\n",
            "1875/1875 [==============================] - 151s 81ms/step - loss: 0.1570 - accuracy: 0.9535 - val_loss: 0.0956 - val_accuracy: 0.9714\n",
            "Epoch 4/10\n",
            "1875/1875 [==============================] - 152s 81ms/step - loss: 0.1237 - accuracy: 0.9638 - val_loss: 0.0785 - val_accuracy: 0.9770\n",
            "Epoch 5/10\n",
            "1875/1875 [==============================] - 151s 81ms/step - loss: 0.1063 - accuracy: 0.9686 - val_loss: 0.0649 - val_accuracy: 0.9799\n",
            "Epoch 6/10\n",
            "1875/1875 [==============================] - 150s 80ms/step - loss: 0.0953 - accuracy: 0.9714 - val_loss: 0.0606 - val_accuracy: 0.9818\n",
            "Epoch 7/10\n",
            "1875/1875 [==============================] - 150s 80ms/step - loss: 0.0864 - accuracy: 0.9736 - val_loss: 0.0535 - val_accuracy: 0.9829\n",
            "Epoch 8/10\n",
            "1875/1875 [==============================] - 150s 80ms/step - loss: 0.0808 - accuracy: 0.9754 - val_loss: 0.0510 - val_accuracy: 0.9838\n",
            "Epoch 9/10\n",
            "1875/1875 [==============================] - 150s 80ms/step - loss: 0.0770 - accuracy: 0.9765 - val_loss: 0.0497 - val_accuracy: 0.9845\n",
            "Epoch 10/10\n",
            "1875/1875 [==============================] - 151s 80ms/step - loss: 0.0719 - accuracy: 0.9779 - val_loss: 0.0504 - val_accuracy: 0.9836\n",
            "Test loss:  0.05040837079286575\n",
            "Test accuracy:  0.9836000204086304\n"
          ],
          "name": "stdout"
        }
      ]
    },
    {
      "cell_type": "markdown",
      "metadata": {
        "id": "nIR2GBxrrIqd",
        "colab_type": "text"
      },
      "source": [
        "Plot the training progress"
      ]
    },
    {
      "cell_type": "code",
      "metadata": {
        "id": "VE8JvBxbrLH4",
        "colab_type": "code",
        "colab": {
          "base_uri": "https://localhost:8080/",
          "height": 279
        },
        "outputId": "2587b06b-be8c-4ba4-9f9b-5b005bc6065a"
      },
      "source": [
        "#plot the loss chart.\n",
        "#Use history object to get our saved performance. create a history dict that will contain history.history.\n",
        "history_dict = history.history\n",
        "#Extract the loss and validation.\n",
        "loss_values = history_dict['loss']\n",
        "validation_loss_values = history_dict['val_loss']\n",
        "\n",
        "#get number of epochs and create an array using range() function\n",
        "epoch = range(1,len(loss_values)+1)\n",
        "\n",
        "#plot line charts for both validation\n",
        "line1 = plt.plot(epoch,validation_loss_values, label=\"Validation Test Loss\")\n",
        "line2 = plt.plot(epoch, loss_values, label = \"Training Loss\")\n",
        "\n",
        "plt.setp(line1,linewidth=2.0,marker = '+', markersize= 10.0)\n",
        "plt.setp(line2,linewidth=2.0,marker = '4', markersize= 10.0)\n",
        "plt.xlabel(\"Epochs\")\n",
        "plt.ylabel(\"Loss\")\n",
        "plt.grid(True)\n",
        "plt.legend()\n",
        "plt.show()"
      ],
      "execution_count": 8,
      "outputs": [
        {
          "output_type": "display_data",
          "data": {
            "image/png": "[encoded data removed]",
            "text/plain": [
              "<Figure size 432x288 with 1 Axes>"
            ]
          },
          "metadata": {
            "tags": [],
            "needs_background": "light"
          }
        }
      ]
    },
    {
      "cell_type": "code",
      "metadata": {
        "id": "9KIhkjx41iop",
        "colab_type": "code",
        "colab": {
          "base_uri": "https://localhost:8080/",
          "height": 279
        },
        "outputId": "72c012d3-838f-496c-9486-dbce1511e3cb"
      },
      "source": [
        "#plot accuracy curve\n",
        "\n",
        "accuracy_values = history_dict['accuracy']\n",
        "accuracy_loss_values = history_dict['val_accuracy']\n",
        "\n",
        "\n",
        "#get number of epochs and create an array using range() function\n",
        "epoch = range(1,len(accuracy_values)+1)\n",
        "\n",
        "line1 = plt.plot(epoch, accuracy_values, label = \"Test Accuracy\")\n",
        "line2 = plt.plot(epoch, loss_values, label = \"Training Accuracy\")\n",
        "\n",
        "plt.setp(line1,linewidth=2.0,marker = '+', markersize= 10.0)\n",
        "plt.setp(line2,linewidth=2.0,marker = '4', markersize= 10.0)\n",
        "plt.xlabel(\"Epochs\")\n",
        "plt.ylabel(\"Loss\")\n",
        "plt.grid(True)\n",
        "plt.legend()\n",
        "plt.show()"
      ],
      "execution_count": 9,
      "outputs": [
        {
          "output_type": "display_data",
          "data": {
            "image/png": "[encoded data removed]",
            "text/plain": [
              "<Figure size 432x288 with 1 Axes>"
            ]
          },
          "metadata": {
            "tags": [],
            "needs_background": "light"
          }
        }
      ]
    },
    {
      "cell_type": "code",
      "metadata": {
        "id": "SgHyG0-N2oIc",
        "colab_type": "code",
        "colab": {}
      },
      "source": [
        "#save the model\n",
        "model.save('MNIST_Simple_CNN_10-Epoch.h5')"
      ],
      "execution_count": 10,
      "outputs": []
    },
    {
      "cell_type": "code",
      "metadata": {
        "id": "R9W1IpHg224K",
        "colab_type": "code",
        "colab": {
          "base_uri": "https://localhost:8080/",
          "height": 206
        },
        "outputId": "34e746c1-7df5-44da-df33-757c91bd8925"
      },
      "source": [
        "#test using random data\n",
        "from tensorflow.keras.models import load_model\n",
        "classifier = load_model('MNIST_Simple_CNN_10-Epoch.h5')\n",
        "\n",
        "figure = plt.figure(figsize=(20,20))\n",
        "for i in range(5):\n",
        "  figure.add_subplot(1,5,i+1)\n",
        "  random_index = np.random.randint(0, len(x_test))\n",
        "  plt.imshow(x_test[random_index,:,:,0],cmap='gray')\n",
        "  plt.axis('off')\n",
        "  print(np.squeeze(np.argmax(model.predict(x_test[random_index].reshape(1,28,28,1)),axis=1),axis=0),end = '\\t')"
      ],
      "execution_count": 11,
      "outputs": [
        {
          "output_type": "stream",
          "text": [
            "5\t3\t5\t9\t5\t"
          ],
          "name": "stdout"
        },
        {
          "output_type": "display_data",
          "data": {
            "image/png": "[encoded data removed]",
            "text/plain": [
              "<Figure size 1440x1440 with 5 Axes>"
            ]
          },
          "metadata": {
            "tags": [],
            "needs_background": "light"
          }
        }
      ]
    },
    {
      "cell_type": "markdown",
      "metadata": {
        "id": "zgX2A7vm4o-H",
        "colab_type": "text"
      },
      "source": [
        "# PART 2\n",
        "Visualization of the CNN (8th Sept, 2020) \n",
        "Black-box vs White-box models.\n",
        "Visualization helps show how the model arrived the decisions it takes."
      ]
    },
    {
      "cell_type": "markdown",
      "metadata": {
        "id": "04_Dw1OqeFkv",
        "colab_type": "text"
      },
      "source": [
        "# 8th Sept,2020\n",
        "# Objective\n",
        "Load the trained CNN and understand what they 'see' and learn; this helps us to better understand how the model works.\n",
        "# Workflow\n",
        "1. Load dataset from milestone 1.\n",
        "2. Analyse the model performance by viewing the confusion matrix and classification report.\n",
        "Confusion matrix- shows true positive, true negative, false positive, false negative.\n",
        "Classification report- values derived from the confusion matrix. Closely analyse the performance metrics. Aim at identifying the weaknesses of the model. Look at the individual performance of each class of the CNN and see cases where the model has problems classifying data correctly; since accuracy is ~98%.\n",
        "3. Identify all samples wrongly classified by the model and display the results. \n",
        "4.  Extract our layer outputs and create an activation model to visualize the the activations of each layer.\n",
        "s = activation function(w*input + bias)\n",
        "5. Display the output shape of the first activation layer and compare it with the output layer shape from the model summary.\n",
        "6. Show the output of the activation map of the 4th convolutional filter or the feature map of the 1st convolutional layer.\n",
        "7. Display all the activation of the first 3 layers of the model.\n",
        "\n",
        "The final output of this part will display the confusion matrix, the classification report and a display of sample data that is wrongly classified. We then display the activation layer for the various CNN layers.\n",
        "\n"
      ]
    },
    {
      "cell_type": "code",
      "metadata": {
        "id": "S5IzmsJmkydw",
        "colab_type": "code",
        "colab": {}
      },
      "source": [
        "# reload the data and model\n",
        "from tensorflow.keras.models import load_model\n",
        "from tensorflow.keras.utils import to_categorical\n",
        "from tensorflow.keras.datasets import mnist\n",
        "\n",
        "#load th dataset\n",
        "(x_train,y_train),(x_test,y_test) = mnist.load_data()\n",
        "model = load_model('MNIST_Simple_CNN_10-Epoch.h5')"
      ],
      "execution_count": 13,
      "outputs": []
    },
    {
      "cell_type": "code",
      "metadata": {
        "id": "cR9pBTyal3-5",
        "colab_type": "code",
        "colab": {
          "base_uri": "https://localhost:8080/",
          "height": 34
        },
        "outputId": "04d00716-9d2c-4c2e-ec68-ff3d3a35ac91"
      },
      "source": [
        "#get data into right shape for keras\n",
        "#have a variable for number of rows and columns\n",
        "img_rows = x_train[0].shape[0]\n",
        "img_columns = x_train[0].shape[1]\n",
        "x_test = x_test.reshape(x_test.shape[0], img_rows, img_columns, 1) #similar to one-hot-encoding\n",
        "\n",
        "#store the shape of a single image\n",
        "input_shape = (img_rows,img_columns,1)\n",
        "\n",
        "#change image type to float32\n",
        "x_test = x_test.astype('float32')\n",
        "\n",
        "#normalize the data by changing the range\n",
        "x_test /= 255.0\n",
        "y_test = to_categorical(y_test)\n",
        "print(x_test.shape[0], 'test samples')"
      ],
      "execution_count": 14,
      "outputs": [
        {
          "output_type": "stream",
          "text": [
            "10000 test samples\n"
          ],
          "name": "stdout"
        }
      ]
    },
    {
      "cell_type": "code",
      "metadata": {
        "id": "HcXN44ipoK1y",
        "colab_type": "code",
        "colab": {
          "base_uri": "https://localhost:8080/",
          "height": 476
        },
        "outputId": "f4e38f72-6a13-44e6-ad54-7816e02ffa2b"
      },
      "source": [
        "#displaying the classification report\n",
        "from sklearn.metrics import classification_report, confusion_matrix\n",
        "import numpy as np\n",
        "\n",
        "y_pred = model.predict_classes(x_test)\n",
        "\n",
        "print(classification_report(np.argmax(y_test,axis=1),y_pred))\n",
        "print(confusion_matrix(np.argmax(y_test,axis=1),y_pred))"
      ],
      "execution_count": 18,
      "outputs": [
        {
          "output_type": "stream",
          "text": [
            "              precision    recall  f1-score   support\n",
            "\n",
            "           0       0.97      0.99      0.98       980\n",
            "           1       0.98      0.99      0.99      1135\n",
            "           2       0.98      0.98      0.98      1032\n",
            "           3       0.99      0.99      0.99      1010\n",
            "           4       0.99      0.99      0.99       982\n",
            "           5       0.99      0.99      0.99       892\n",
            "           6       0.99      0.98      0.99       958\n",
            "           7       0.98      0.98      0.98      1028\n",
            "           8       0.99      0.97      0.98       974\n",
            "           9       0.99      0.97      0.98      1009\n",
            "\n",
            "    accuracy                           0.98     10000\n",
            "   macro avg       0.98      0.98      0.98     10000\n",
            "weighted avg       0.98      0.98      0.98     10000\n",
            "\n",
            "[[ 975    0    1    0    0    1    1    1    1    0]\n",
            " [   0 1129    1    1    0    1    2    0    1    0]\n",
            " [   2    6 1014    2    1    0    1    5    1    0]\n",
            " [   0    0    3  998    0    4    0    3    2    0]\n",
            " [   1    0    1    0  970    0    1    0    1    8]\n",
            " [   2    0    0    5    0  882    2    0    1    0]\n",
            " [   8    3    0    1    2    2  940    0    2    0]\n",
            " [   1    4   11    2    0    0    0 1007    2    1]\n",
            " [   8    0    4    1    3    2    2    3  946    5]\n",
            " [   6    7    1    3    7    2    0    7    1  975]]\n"
          ],
          "name": "stdout"
        }
      ]
    },
    {
      "cell_type": "markdown",
      "metadata": {
        "id": "d22ukirhplyl",
        "colab_type": "text"
      },
      "source": [
        "# Get the mis-classified sample items"
      ]
    }
  ]
}