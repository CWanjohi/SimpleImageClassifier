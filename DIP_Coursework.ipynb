{
  "nbformat": 4,
  "nbformat_minor": 0,
  "metadata": {
    "colab": {
      "name": "DIP_Coursework.ipynb",
      "provenance": [],
      "collapsed_sections": []
    },
    "kernelspec": {
      "name": "python3",
      "display_name": "Python 3"
    }
  },
  "cells": [
    {
      "cell_type": "markdown",
      "metadata": {
        "id": "GgFeZZfmNK6Q",
        "colab_type": "text"
      },
      "source": [
        "Simple Image Classifier using Convolutional Neural Network"
      ]
    },
    {
      "cell_type": "markdown",
      "metadata": {
        "id": "I-f_law1ORyL",
        "colab_type": "text"
      },
      "source": [
        "# Objective\n",
        "Primary Objective: Create CNN model. Use the model to classify handwritten digits.\n",
        "Secondary: CNN to generate artistic work."
      ]
    },
    {
      "cell_type": "markdown",
      "metadata": {
        "id": "t14pPGYbOUvQ",
        "colab_type": "text"
      },
      "source": [
        "# Workflow\n",
        "1. How to load the MNIST dataset and examine structure.\n",
        "*   Use any library to load the dataset- Tensorflow,PyTorch.\n",
        "*   Examine shape, size and quantity(Image_processing).\n",
        "*   View some random sample using OpenCV,matplotlib etc. of the handwritten digits and complexity of the images.\n",
        "\n",
        "2. Use numpy etc. to prepare the dataset for training.\n",
        "*  Ensure the data format and shape is appropriate for the model's input (one-hot encoding).\n",
        "*   Ensure data normalization.\n",
        "3. Create a CNN model.\n",
        "*   Input image-28x28x1 \n",
        "*   2 convolutional layers (kernel size 3x3). 1st will have 64 filters, 2nd will have 32. Use ReLU (Rectified Linear Unit) as an activation function.\n",
        "*   Max pooling 2x2\n",
        "*   Dropout rate-0.25\n",
        "*   Use dense layer with 128 outputs\n",
        "*   Add dropout layer using rate setting-0.5\n",
        "*   add \n",
        "\n",
        "4. Train model using MNIST dataset.\n",
        "*   train for 10 epochs with batch size- 32\n",
        "*   List item\n",
        "\n",
        "5. Plot graphs to show how training and validation loss and accuracy changed with respect to the epochs completed.\n",
        "\n",
        "6. Save the modelfor future use in the 2nd part.\n",
        "7. test model using random samples training set.\n",
        "\n",
        "\n",
        "\n",
        "\n",
        "\n",
        "\n",
        "\n",
        "\n",
        "\n",
        "\n",
        "\n",
        "\n"
      ]
    },
    {
      "cell_type": "markdown",
      "metadata": {
        "id": "3QB5j69gPCyE",
        "colab_type": "text"
      },
      "source": [
        "# Deliverable\n",
        "Jupyter notebook to document the workflow. View samples from the dataset, convert to appropriate format for the deep learning library."
      ]
    },
    {
      "cell_type": "markdown",
      "metadata": {
        "id": "CGPXvBBJUw1H",
        "colab_type": "text"
      },
      "source": [
        "# Code\n",
        "\n",
        "\n"
      ]
    },
    {
      "cell_type": "code",
      "metadata": {
        "id": "m1xrckkxVR5Y",
        "colab_type": "code",
        "colab": {
          "base_uri": "https://localhost:8080/",
          "height": 316
        },
        "outputId": "00ad4b1e-e749-4dac-8d6a-f34ff8d05689"
      },
      "source": [
        "#load dataset\n",
        "from tensorflow.keras.dataset import mnist"
      ],
      "execution_count": 1,
      "outputs": [
        {
          "output_type": "error",
          "ename": "ModuleNotFoundError",
          "evalue": "ignored",
          "traceback": [
            "\u001b[0;31m---------------------------------------------------------------------------\u001b[0m",
            "\u001b[0;31mModuleNotFoundError\u001b[0m                       Traceback (most recent call last)",
            "\u001b[0;32m<ipython-input-1-d392a3746461>\u001b[0m in \u001b[0;36m<module>\u001b[0;34m()\u001b[0m\n\u001b[1;32m      1\u001b[0m \u001b[0;31m#load dataset\u001b[0m\u001b[0;34m\u001b[0m\u001b[0;34m\u001b[0m\u001b[0;34m\u001b[0m\u001b[0m\n\u001b[0;32m----> 2\u001b[0;31m \u001b[0;32mfrom\u001b[0m \u001b[0mtensorflow\u001b[0m\u001b[0;34m.\u001b[0m\u001b[0mkeras\u001b[0m\u001b[0;34m.\u001b[0m\u001b[0mdataset\u001b[0m \u001b[0;32mimport\u001b[0m \u001b[0mmnist\u001b[0m\u001b[0;34m\u001b[0m\u001b[0;34m\u001b[0m\u001b[0m\n\u001b[0m",
            "\u001b[0;31mModuleNotFoundError\u001b[0m: No module named 'tensorflow.keras.dataset'",
            "",
            "\u001b[0;31m---------------------------------------------------------------------------\u001b[0;32m\nNOTE: If your import is failing due to a missing package, you can\nmanually install dependencies using either !pip or !apt.\n\nTo view examples of installing some common dependencies, click the\n\"Open Examples\" button below.\n\u001b[0;31m---------------------------------------------------------------------------\u001b[0m\n"
          ]
        }
      ]
    },
    {
      "cell_type": "code",
      "metadata": {
        "id": "vk9rmFgPVhlV",
        "colab_type": "code",
        "colab": {}
      },
      "source": [
        "(x_train,y_train),(x_test,y_test) = mnist.load_data()\n",
        "#display data samples from training and test data.\n",
        "\n",
        "print(\"Initial dimensions and shape of x_train: \",str(x_train.shape))\n",
        "print(\"Total number of samples in training data: \",str(len(x_train)))\n",
        "print(\"Number of labels in training data: \",str(len(y_train)))\n",
        "\n",
        "print(\"Initial dimensions and shape of test data: \",str(x_test.shape),\"\\n\")\n",
        "print(\"Total number of samples in test data: \",str(len(x_test)))\n",
        "print(\"Number of labels in test data: \",str(len(x_test)))\n",
        "\n",
        "print(\"Dimension of training data: \",str(x_train[0].shape))\n",
        "print(\"Labels of training data \",str(y_train.shape))\n",
        "\n",
        "print(\"Dimension of test data: \",str(x_test[0].shape))\n",
        "print(\"labels of test data: \",str(y_test.shape))"
      ],
      "execution_count": null,
      "outputs": []
    }
  ]
}